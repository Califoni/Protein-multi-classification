{
 "cells": [
  {
   "cell_type": "markdown",
   "id": "6d7a4b13-d640-4d7e-ac22-2dcd834c2354",
   "metadata": {
    "tags": []
   },
   "source": [
    "### 从.mat文件中读入数据"
   ]
  },
  {
   "cell_type": "code",
   "execution_count": 2,
   "id": "e612c45a-cb22-42d3-934a-bb2cac95a9d0",
   "metadata": {
    "tags": []
   },
   "outputs": [],
   "source": [
    "import scipy\n",
    "import numpy as np"
   ]
  },
  {
   "cell_type": "code",
   "execution_count": 3,
   "id": "421a2fbb-72b0-4082-aac9-646df3fc76b7",
   "metadata": {
    "tags": []
   },
   "outputs": [],
   "source": [
    "data=scipy.io.loadmat('DBPB.mat')#读入由matlab处理好的样本特征向量"
   ]
  },
  {
   "cell_type": "code",
   "execution_count": 4,
   "id": "ae1df58d-cf70-4a58-b475-b301c23bc192",
   "metadata": {
    "tags": []
   },
   "outputs": [
    {
     "data": {
      "text/plain": [
       "(94,)"
      ]
     },
     "execution_count": 4,
     "metadata": {},
     "output_type": "execute_result"
    }
   ],
   "source": [
    "data['DBPB1'][0].shape#每个样本94个特征"
   ]
  },
  {
   "cell_type": "code",
   "execution_count": 5,
   "id": "ac0c449e-f672-4a62-a5dd-ce7d62f95010",
   "metadata": {
    "tags": []
   },
   "outputs": [
    {
     "data": {
      "text/plain": [
       "(9279, 94)"
      ]
     },
     "execution_count": 5,
     "metadata": {},
     "output_type": "execute_result"
    }
   ],
   "source": [
    "data['DBPB1'].shape#第一类样本数量为9279"
   ]
  },
  {
   "cell_type": "markdown",
   "id": "11d18ed4-7e8c-4d58-ae07-23afd732c1f3",
   "metadata": {
    "tags": []
   },
   "source": [
    "### 先将数据读入到矩阵中便于处理"
   ]
  },
  {
   "cell_type": "code",
   "execution_count": 6,
   "id": "22c4ad3e-a87d-4151-937c-80a8e03d4626",
   "metadata": {
    "tags": []
   },
   "outputs": [
    {
     "data": {
      "text/plain": [
       "array([[0.00172604, 0.00379138, 0.00296589, ..., 0.00116799, 0.00091695,\n",
       "        0.00525093],\n",
       "       [0.00352267, 0.00097731, 0.00296935, ..., 0.00847652, 0.00462204,\n",
       "        0.00282324],\n",
       "       [0.00339284, 0.00166496, 0.00277194, ..., 0.00288942, 0.00499452,\n",
       "        0.00355836],\n",
       "       ...,\n",
       "       [0.00799746, 0.00392692, 0.00227704, ..., 0.00519247, 0.00426208,\n",
       "        0.00183095],\n",
       "       [0.00149238, 0.00276466, 0.00239477, ..., 0.00100603, 0.00415174,\n",
       "        0.00158   ],\n",
       "       [0.00478357, 0.00589117, 0.006869  , ..., 0.00381122, 0.01051007,\n",
       "        0.01011765]])"
      ]
     },
     "execution_count": 6,
     "metadata": {},
     "output_type": "execute_result"
    }
   ],
   "source": [
    "data['DBPB1']"
   ]
  },
  {
   "cell_type": "code",
   "execution_count": 9,
   "id": "d8044017-f607-44c1-a6e8-4830b542a23c",
   "metadata": {
    "tags": []
   },
   "outputs": [],
   "source": [
    "data_1=np.array(data['DBPB1'])\n",
    "data_2=np.array(data['DBPB2'])"
   ]
  },
  {
   "cell_type": "markdown",
   "id": "314d2eaa-9b57-43d7-bfd2-7118def62ac9",
   "metadata": {
    "tags": []
   },
   "source": [
    "发现.mat读入的数据就是np类型数组，待定处理"
   ]
  },
  {
   "cell_type": "markdown",
   "id": "6b411964-1957-47b0-82b2-61d10d314c16",
   "metadata": {
    "tags": []
   },
   "source": [
    "### 接下来进行数据平衡"
   ]
  },
  {
   "cell_type": "code",
   "execution_count": 8,
   "id": "74063c6b-b47c-4f00-9c50-32127ac17437",
   "metadata": {
    "tags": []
   },
   "outputs": [],
   "source": [
    "from imblearn.over_sampling import SMOTE,ADASYN"
   ]
  },
  {
   "cell_type": "code",
   "execution_count": 10,
   "id": "3d83ce61-d855-4e3b-962a-ea0180005572",
   "metadata": {
    "tags": []
   },
   "outputs": [],
   "source": [
    "ada=ADASYN(random_state=42)"
   ]
  },
  {
   "cell_type": "code",
   "execution_count": 14,
   "id": "437e4de2-0830-45d9-83bf-cf57b125d2f8",
   "metadata": {
    "tags": []
   },
   "outputs": [
    {
     "data": {
      "text/plain": [
       "(9989, 94)"
      ]
     },
     "execution_count": 14,
     "metadata": {},
     "output_type": "execute_result"
    }
   ],
   "source": [
    "x=np.concatenate((data_1,data_2),axis=0)\n",
    "x.shape"
   ]
  },
  {
   "cell_type": "code",
   "execution_count": 19,
   "id": "412d72d7-5b15-42c8-ae2f-f9d204d1f9bb",
   "metadata": {
    "tags": []
   },
   "outputs": [],
   "source": [
    "data_1_y=np.zeros(data_1.shape[0])\n",
    "data_2_y=np.full(data_2.shape[0],1)"
   ]
  },
  {
   "cell_type": "code",
   "execution_count": 23,
   "id": "7f57c0b5-6f93-4279-86ff-f2914d1caf3c",
   "metadata": {
    "tags": []
   },
   "outputs": [],
   "source": [
    "y=np.concatenate((data_1_y,data_2_y),axis=0)"
   ]
  },
  {
   "cell_type": "code",
   "execution_count": 24,
   "id": "b896e059-aa7b-4691-822e-f595bc53ae04",
   "metadata": {
    "tags": []
   },
   "outputs": [
    {
     "data": {
      "text/plain": [
       "(9989,)"
      ]
     },
     "execution_count": 24,
     "metadata": {},
     "output_type": "execute_result"
    }
   ],
   "source": [
    "y.shape"
   ]
  },
  {
   "cell_type": "code",
   "execution_count": 25,
   "id": "1056a275-1305-45ee-a014-ad9fa38be81b",
   "metadata": {
    "tags": []
   },
   "outputs": [],
   "source": [
    "x_1,y_1=ada.fit_resample(x,y)"
   ]
  },
  {
   "cell_type": "code",
   "execution_count": 26,
   "id": "48ab6c99-3645-4ac2-b565-2751ece145ab",
   "metadata": {
    "tags": []
   },
   "outputs": [
    {
     "data": {
      "text/plain": [
       "(18481, 94)"
      ]
     },
     "execution_count": 26,
     "metadata": {},
     "output_type": "execute_result"
    }
   ],
   "source": [
    "x_1.shape"
   ]
  },
  {
   "cell_type": "code",
   "execution_count": 27,
   "id": "74ebb8ce-6352-422a-b273-e0de1bc2ba6e",
   "metadata": {
    "tags": []
   },
   "outputs": [
    {
     "data": {
      "text/plain": [
       "(18481,)"
      ]
     },
     "execution_count": 27,
     "metadata": {},
     "output_type": "execute_result"
    }
   ],
   "source": [
    "y_1.shape"
   ]
  },
  {
   "cell_type": "code",
   "execution_count": 31,
   "id": "ccc45d3c-f1f6-4f7e-a2bb-f7afcb30d537",
   "metadata": {
    "tags": []
   },
   "outputs": [
    {
     "data": {
      "text/plain": [
       "9202"
      ]
     },
     "execution_count": 31,
     "metadata": {},
     "output_type": "execute_result"
    }
   ],
   "source": [
    "sum(y_1==1)"
   ]
  },
  {
   "cell_type": "code",
   "execution_count": null,
   "id": "99220296-1950-4434-a3e0-370d26183ad9",
   "metadata": {},
   "outputs": [],
   "source": []
  }
 ],
 "metadata": {
  "kernelspec": {
   "display_name": "d2l:Python",
   "language": "python",
   "name": "conda-env-d2l-py"
  },
  "language_info": {
   "codemirror_mode": {
    "name": "ipython",
    "version": 3
   },
   "file_extension": ".py",
   "mimetype": "text/x-python",
   "name": "python",
   "nbconvert_exporter": "python",
   "pygments_lexer": "ipython3",
   "version": "3.9.18"
  }
 },
 "nbformat": 4,
 "nbformat_minor": 5
}
