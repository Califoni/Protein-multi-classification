{
 "cells": [
  {
   "cell_type": "markdown",
   "id": "6d7a4b13-d640-4d7e-ac22-2dcd834c2354",
   "metadata": {
    "jp-MarkdownHeadingCollapsed": true,
    "tags": []
   },
   "source": [
    "### 从.mat文件中读入数据"
   ]
  },
  {
   "cell_type": "code",
   "execution_count": 1,
   "id": "e612c45a-cb22-42d3-934a-bb2cac95a9d0",
   "metadata": {
    "tags": []
   },
   "outputs": [],
   "source": [
    "import scipy\n",
    "import numpy as np"
   ]
  },
  {
   "cell_type": "code",
   "execution_count": 2,
   "id": "421a2fbb-72b0-4082-aac9-646df3fc76b7",
   "metadata": {
    "tags": []
   },
   "outputs": [],
   "source": [
    "data=scipy.io.loadmat('DBPB.mat')#读入由matlab处理好的样本特征向量"
   ]
  },
  {
   "cell_type": "code",
   "execution_count": 3,
   "id": "ae1df58d-cf70-4a58-b475-b301c23bc192",
   "metadata": {
    "tags": []
   },
   "outputs": [
    {
     "data": {
      "text/plain": [
       "(94,)"
      ]
     },
     "execution_count": 3,
     "metadata": {},
     "output_type": "execute_result"
    }
   ],
   "source": [
    "data['DBPB1'][0].shape#每个样本94个特征"
   ]
  },
  {
   "cell_type": "code",
   "execution_count": 4,
   "id": "ac0c449e-f672-4a62-a5dd-ce7d62f95010",
   "metadata": {
    "tags": []
   },
   "outputs": [
    {
     "data": {
      "text/plain": [
       "(9279, 94)"
      ]
     },
     "execution_count": 4,
     "metadata": {},
     "output_type": "execute_result"
    }
   ],
   "source": [
    "data['DBPB1'].shape#第一类样本数量为9279"
   ]
  },
  {
   "cell_type": "markdown",
   "id": "11d18ed4-7e8c-4d58-ae07-23afd732c1f3",
   "metadata": {
    "jp-MarkdownHeadingCollapsed": true,
    "tags": []
   },
   "source": [
    "### 先将数据读入到矩阵中便于处理"
   ]
  },
  {
   "cell_type": "code",
   "execution_count": 5,
   "id": "22c4ad3e-a87d-4151-937c-80a8e03d4626",
   "metadata": {
    "tags": []
   },
   "outputs": [
    {
     "data": {
      "text/plain": [
       "array([[0.00172604, 0.00379138, 0.00296589, ..., 0.00116799, 0.00091695,\n",
       "        0.00525093],\n",
       "       [0.00352267, 0.00097731, 0.00296935, ..., 0.00847652, 0.00462204,\n",
       "        0.00282324],\n",
       "       [0.00339284, 0.00166496, 0.00277194, ..., 0.00288942, 0.00499452,\n",
       "        0.00355836],\n",
       "       ...,\n",
       "       [0.00799746, 0.00392692, 0.00227704, ..., 0.00519247, 0.00426208,\n",
       "        0.00183095],\n",
       "       [0.00149238, 0.00276466, 0.00239477, ..., 0.00100603, 0.00415174,\n",
       "        0.00158   ],\n",
       "       [0.00478357, 0.00589117, 0.006869  , ..., 0.00381122, 0.01051007,\n",
       "        0.01011765]])"
      ]
     },
     "execution_count": 5,
     "metadata": {},
     "output_type": "execute_result"
    }
   ],
   "source": [
    "data['DBPB1']"
   ]
  },
  {
   "cell_type": "code",
   "execution_count": 15,
   "id": "d8044017-f607-44c1-a6e8-4830b542a23c",
   "metadata": {
    "tags": []
   },
   "outputs": [],
   "source": [
    "d_1=np.array(data['DBPB1'])\n",
    "d_2=np.array(data['DBPB2'])\n",
    "d_3=np.array(data['DBPB3'])\n",
    "d_4=np.array(data['DBPB4'])\n",
    "d_5=np.array(data['DBPB5'])\n",
    "d_6=np.array(data['DBPB6'])\n",
    "d_7=np.array(data['DBPB7'])\n",
    "d_8=np.array(data['DBPB8'])\n",
    "d_9=np.array(data['DBPB9'])\n",
    "d_10=np.array(data['DBPB10'])\n",
    "d_11=np.array(data['DBPB11'])"
   ]
  },
  {
   "cell_type": "markdown",
   "id": "6b411964-1957-47b0-82b2-61d10d314c16",
   "metadata": {
    "tags": []
   },
   "source": [
    "### 接下来进行数据平衡"
   ]
  },
  {
   "cell_type": "code",
   "execution_count": 9,
   "id": "74063c6b-b47c-4f00-9c50-32127ac17437",
   "metadata": {
    "tags": []
   },
   "outputs": [],
   "source": [
    "from imblearn.over_sampling import ADASYN\n",
    "from imblearn.under_sampling import OneSidedSelection"
   ]
  },
  {
   "cell_type": "markdown",
   "id": "e93bd29c-3aff-4edc-8cee-563211f9926a",
   "metadata": {
    "jp-MarkdownHeadingCollapsed": true,
    "tags": []
   },
   "source": [
    "#### 先进行下采样"
   ]
  },
  {
   "cell_type": "code",
   "execution_count": 19,
   "id": "802ea3c3-0405-4ec9-a5a4-b761ccfa961e",
   "metadata": {
    "tags": []
   },
   "outputs": [
    {
     "data": {
      "text/plain": [
       "(12983, 94)"
      ]
     },
     "execution_count": 19,
     "metadata": {},
     "output_type": "execute_result"
    }
   ],
   "source": [
    "x=np.concatenate((d_1,d_2,d_3,d_4,d_5,d_6,d_7,d_8,d_9,d_10,d_11),axis=0)\n",
    "x.shape"
   ]
  },
  {
   "cell_type": "code",
   "execution_count": 67,
   "id": "cc5dc7d3-deb4-41ea-8c00-d1e9345b4bb9",
   "metadata": {
    "tags": []
   },
   "outputs": [],
   "source": [
    "for i in range(1,12):\n",
    "    exec(f'y_{i}=np.full(d_{i}.shape[0],i)');"
   ]
  },
  {
   "cell_type": "code",
   "execution_count": 68,
   "id": "0c495b95-d01a-4c23-8b0e-ced33a0c7e79",
   "metadata": {
    "tags": []
   },
   "outputs": [],
   "source": [
    "y_dir=[y_1,y_2,y_3,y_4,y_5,y_6,y_7,y_8,y_9,y_10,y_11]"
   ]
  },
  {
   "cell_type": "code",
   "execution_count": 70,
   "id": "2c0eef44-bb8f-475a-9b24-0cc93fad967d",
   "metadata": {
    "tags": []
   },
   "outputs": [
    {
     "data": {
      "text/plain": [
       "(9279,)"
      ]
     },
     "execution_count": 70,
     "metadata": {},
     "output_type": "execute_result"
    }
   ],
   "source": [
    "y_dir[0].shape"
   ]
  },
  {
   "cell_type": "code",
   "execution_count": 71,
   "id": "74b888ce-2815-42bc-9484-b7925bebe4a6",
   "metadata": {
    "tags": []
   },
   "outputs": [
    {
     "data": {
      "text/plain": [
       "(12983,)"
      ]
     },
     "execution_count": 71,
     "metadata": {},
     "output_type": "execute_result"
    }
   ],
   "source": [
    "y=np.concatenate((y_dir),axis=0)\n",
    "y.shape"
   ]
  },
  {
   "cell_type": "code",
   "execution_count": 118,
   "id": "68116b4c-529d-4c06-bde0-b71868ba257b",
   "metadata": {
    "tags": []
   },
   "outputs": [
    {
     "data": {
      "text/plain": [
       "Counter({1: 3099,\n",
       "         2: 710,\n",
       "         3: 600,\n",
       "         5: 561,\n",
       "         4: 454,\n",
       "         10: 454,\n",
       "         7: 360,\n",
       "         6: 251,\n",
       "         9: 153,\n",
       "         8: 88,\n",
       "         11: 73})"
      ]
     },
     "execution_count": 118,
     "metadata": {},
     "output_type": "execute_result"
    }
   ],
   "source": [
    "def ratio_multiplier(y):\n",
    "    from collections import Counter\n",
    "\n",
    "    multiplier = {1: 0.334}\n",
    "    target_stats = Counter(y)\n",
    "    for key, value in target_stats.items():\n",
    "        if key in multiplier:\n",
    "            target_stats[key] = int(value * multiplier[key])\n",
    "    return target_stats\n",
    "\n",
    "ratio_multiplier(y)"
   ]
  },
  {
   "cell_type": "code",
   "execution_count": 103,
   "id": "61a8ebb3-000a-48ec-83fb-ea0f9d338aa1",
   "metadata": {
    "tags": []
   },
   "outputs": [],
   "source": [
    "#sa_st={0:3100,1:710,2:600,3:454,4:561,5:251,6:360,7:88,8:153,9:454,10:73}\n",
    "#sa_st={1:3100,2:710,3:600,4:454,5:561,6:251,7:360,8:88,9:153,10:454,11:73}\n",
    "#该算法在imbalanced中属于清除算法，清除策略应用字典表示目标类\n",
    "sa_st=[1]\n",
    "oss=OneSidedSelection(sampling_strategy=sa_st)\n",
    "x_resampled,y_resampled=oss.fit_resample(x,y)"
   ]
  },
  {
   "cell_type": "code",
   "execution_count": 107,
   "id": "668fb7f0-164c-43c9-b037-219a545c9cce",
   "metadata": {
    "tags": []
   },
   "outputs": [
    {
     "name": "stdout",
     "output_type": "stream",
     "text": [
      "8813\n",
      "710\n",
      "600\n",
      "454\n",
      "561\n",
      "251\n",
      "360\n",
      "88\n",
      "153\n",
      "454\n",
      "73\n",
      "9279\n",
      "710\n",
      "600\n",
      "454\n",
      "561\n",
      "251\n",
      "360\n",
      "88\n",
      "153\n",
      "454\n",
      "73\n"
     ]
    }
   ],
   "source": [
    "for i in range(1,12):\n",
    "    print(sum(y_resampled==i))\n",
    "for i in range(1,12):\n",
    "    print(sum(y==i))"
   ]
  },
  {
   "cell_type": "code",
   "execution_count": 129,
   "id": "e1c590f8-157a-4705-9768-87dfce6d2aec",
   "metadata": {
    "tags": []
   },
   "outputs": [],
   "source": [
    "from sklearn.cluster import MiniBatchKMeans\n",
    "from imblearn.under_sampling import ClusterCentroids\n",
    "from imblearn.over_sampling import ADASYN"
   ]
  },
  {
   "cell_type": "code",
   "execution_count": 130,
   "id": "69ccf47f-cba7-4ce9-80e3-dfd434936be1",
   "metadata": {
    "tags": []
   },
   "outputs": [
    {
     "name": "stdout",
     "output_type": "stream",
     "text": [
      "3099\n",
      "710\n",
      "600\n",
      "454\n",
      "561\n",
      "251\n",
      "360\n",
      "88\n",
      "153\n",
      "454\n",
      "73\n"
     ]
    }
   ],
   "source": [
    "cc=ClusterCentroids(\n",
    "    sampling_strategy=ratio_multiplier,estimator=MiniBatchKMeans(n_init=1,random_state=0)\n",
    ")\n",
    "x_under_resampled,y_under_resampled=cc.fit_resample(x,y)\n",
    "for i in range(1,12):\n",
    "    print(sum(y_under_resampled==i))"
   ]
  },
  {
   "cell_type": "markdown",
   "id": "dfc0cab4-ccc1-4de6-a3b0-de0d9c52b46f",
   "metadata": {
    "tags": []
   },
   "source": [
    "#### 再进行上采样"
   ]
  },
  {
   "cell_type": "code",
   "execution_count": 131,
   "id": "49b28b82-a113-4e31-ada7-ef1b0196e9c3",
   "metadata": {
    "tags": []
   },
   "outputs": [
    {
     "name": "stdout",
     "output_type": "stream",
     "text": [
      "3099\n",
      "2959\n",
      "3073\n",
      "3131\n",
      "2917\n",
      "3156\n",
      "3028\n",
      "3128\n",
      "3120\n",
      "3019\n",
      "3087\n"
     ]
    }
   ],
   "source": [
    "ada=ADASYN()\n",
    "x_resampled,y_resampled=ada.fit_resample(x_under_resampled,y_under_resampled)\n",
    "for i in range(1,12):\n",
    "    print(sum(y_resampled==i))"
   ]
  },
  {
   "cell_type": "markdown",
   "id": "78fb4810-36a8-447e-9234-af1a81772df0",
   "metadata": {},
   "source": [
    "重采样完毕"
   ]
  },
  {
   "cell_type": "markdown",
   "id": "5bad6980-1c39-43f1-93cd-1c1d351ce1f3",
   "metadata": {},
   "source": [
    "### 构造分类模型"
   ]
  },
  {
   "cell_type": "code",
   "execution_count": null,
   "id": "56ef1f4f-e3ff-4f1c-a06b-2cde9e8d036c",
   "metadata": {},
   "outputs": [],
   "source": []
  }
 ],
 "metadata": {
  "kernelspec": {
   "display_name": "d2l:Python",
   "language": "python",
   "name": "conda-env-d2l-py"
  },
  "language_info": {
   "codemirror_mode": {
    "name": "ipython",
    "version": 3
   },
   "file_extension": ".py",
   "mimetype": "text/x-python",
   "name": "python",
   "nbconvert_exporter": "python",
   "pygments_lexer": "ipython3",
   "version": "3.9.18"
  }
 },
 "nbformat": 4,
 "nbformat_minor": 5
}
