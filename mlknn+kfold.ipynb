{
 "cells": [
  {
   "cell_type": "code",
   "execution_count": 1,
   "id": "71fd7f98-7725-4b48-9950-573397c0509c",
   "metadata": {
    "tags": []
   },
   "outputs": [],
   "source": [
    "import scipy\n",
    "import numpy as np"
   ]
  },
  {
   "cell_type": "code",
   "execution_count": 9,
   "id": "5f6a21a8-cd9b-4a88-97c1-c49392fddf8d",
   "metadata": {
    "tags": []
   },
   "outputs": [],
   "source": [
    "from sklearn.cluster import MiniBatchKMeans\n",
    "from imblearn.over_sampling import RandomOverSampler\n",
    "from imblearn.under_sampling import RandomUnderSampler\n",
    "from imblearn.under_sampling import ClusterCentroids\n",
    "from sklearn.tree import DecisionTreeClassifier\n",
    "from sklearn.model_selection import cross_val_score\n",
    "from sklearn.model_selection import RepeatedStratifiedKFold\n",
    "from imblearn.over_sampling import ADASYN\n",
    "from imblearn.under_sampling import OneSidedSelection\n",
    "from imblearn.pipeline import Pipeline\n",
    "from sklearn.model_selection import KFold"
   ]
  },
  {
   "cell_type": "code",
   "execution_count": 2,
   "id": "a738c214-35ce-4764-9e80-6aaa53814489",
   "metadata": {
    "tags": []
   },
   "outputs": [],
   "source": [
    "data=scipy.io.loadmat('DBPB.mat')#读入由matlab处理好的样本特征向量\n",
    "data_test=scipy.io.loadmat('DBPB_test.mat')"
   ]
  },
  {
   "cell_type": "code",
   "execution_count": 3,
   "id": "342f0331-c772-49be-860f-828ab0e075b3",
   "metadata": {
    "tags": []
   },
   "outputs": [
    {
     "data": {
      "text/plain": [
       "(94,)"
      ]
     },
     "execution_count": 3,
     "metadata": {},
     "output_type": "execute_result"
    }
   ],
   "source": [
    "data['DBPB1'][0].shape#每个样本94个特征"
   ]
  },
  {
   "cell_type": "code",
   "execution_count": 5,
   "id": "21cf7ee7-0f60-4b3f-a17e-be1c03f93013",
   "metadata": {
    "tags": []
   },
   "outputs": [
    {
     "data": {
      "text/plain": [
       "array([[0.00172604, 0.00379138, 0.00296589, ..., 0.00116799, 0.00091695,\n",
       "        0.00525093],\n",
       "       [0.00352267, 0.00097731, 0.00296935, ..., 0.00847652, 0.00462204,\n",
       "        0.00282324],\n",
       "       [0.00339284, 0.00166496, 0.00277194, ..., 0.00288942, 0.00499452,\n",
       "        0.00355836],\n",
       "       ...,\n",
       "       [0.00799746, 0.00392692, 0.00227704, ..., 0.00519247, 0.00426208,\n",
       "        0.00183095],\n",
       "       [0.00149238, 0.00276466, 0.00239477, ..., 0.00100603, 0.00415174,\n",
       "        0.00158   ],\n",
       "       [0.00478357, 0.00589117, 0.006869  , ..., 0.00381122, 0.01051007,\n",
       "        0.01011765]])"
      ]
     },
     "execution_count": 5,
     "metadata": {},
     "output_type": "execute_result"
    }
   ],
   "source": [
    "data['DBPB1']"
   ]
  },
  {
   "cell_type": "code",
   "execution_count": 4,
   "id": "409945c5-7487-4e92-a21e-68bbb83bd179",
   "metadata": {
    "tags": []
   },
   "outputs": [
    {
     "data": {
      "text/plain": [
       "(9279, 94)"
      ]
     },
     "execution_count": 4,
     "metadata": {},
     "output_type": "execute_result"
    }
   ],
   "source": [
    "data['DBPB1'].shape#第一类样本数量为9279"
   ]
  },
  {
   "cell_type": "markdown",
   "id": "13914316-1126-4960-8eda-cca571eef99b",
   "metadata": {
    "tags": []
   },
   "source": [
    "### 先将数据读入到矩阵中便于处理"
   ]
  },
  {
   "cell_type": "code",
   "execution_count": 6,
   "id": "f3e753b6-4ce4-4730-b647-3a9d1b5830a7",
   "metadata": {
    "tags": []
   },
   "outputs": [],
   "source": [
    "d_1=np.array(data['DBPB1'])\n",
    "d_2=np.array(data['DBPB2'])\n",
    "d_3=np.array(data['DBPB3'])\n",
    "d_4=np.array(data['DBPB4'])\n",
    "d_5=np.array(data['DBPB5'])\n",
    "d_6=np.array(data['DBPB6'])\n",
    "d_7=np.array(data['DBPB7'])\n",
    "d_8=np.array(data['DBPB8'])\n",
    "d_9=np.array(data['DBPB9'])\n",
    "d_10=np.array(data['DBPB10'])\n",
    "d_11=np.array(data['DBPB11'])\n",
    "\n",
    "dt_1=np.array(data_test['DBPB1'])\n",
    "dt_2=np.array(data_test['DBPB2'])\n",
    "dt_3=np.array(data_test['DBPB3'])\n",
    "dt_4=np.array(data_test['DBPB4'])\n",
    "dt_5=np.array(data_test['DBPB5'])\n",
    "dt_6=np.array(data_test['DBPB6'])\n",
    "dt_7=np.array(data_test['DBPB7'])\n",
    "dt_8=np.array(data_test['DBPB8'])\n",
    "dt_9=np.array(data_test['DBPB9'])\n",
    "dt_10=np.array(data_test['DBPB10'])\n",
    "dt_11=np.array(data_test['DBPB11'])\n"
   ]
  },
  {
   "cell_type": "markdown",
   "id": "f17aba15-6f65-4f4d-bf2c-f9b6bc0e5a56",
   "metadata": {
    "tags": []
   },
   "source": [
    "### 接下来进行数据平衡"
   ]
  },
  {
   "cell_type": "markdown",
   "id": "a0c2b531-dbb6-4139-90fc-856b8e5dcb36",
   "metadata": {
    "tags": []
   },
   "source": [
    "#### 整合数据"
   ]
  },
  {
   "cell_type": "code",
   "execution_count": 20,
   "id": "1970a009-47d5-4690-b2db-0cd772717872",
   "metadata": {
    "tags": []
   },
   "outputs": [
    {
     "name": "stdout",
     "output_type": "stream",
     "text": [
      "(12983, 94)\n",
      "(5662, 94)\n"
     ]
    }
   ],
   "source": [
    "X_train=np.concatenate((d_1,d_2,d_3,d_4,d_5,d_6,d_7,d_8,d_9,d_10,d_11),axis=0)\n",
    "X_test=np.concatenate((dt_1,dt_2,dt_3,dt_4,dt_5,dt_6,dt_7,dt_8,dt_9,dt_10,dt_11),axis=0)\n",
    "print(X_train.shape)\n",
    "print(X_test.shape)"
   ]
  },
  {
   "cell_type": "code",
   "execution_count": 21,
   "id": "bf31a6d8-0ead-4f57-9297-4e6b86f48b57",
   "metadata": {
    "tags": []
   },
   "outputs": [
    {
     "name": "stdout",
     "output_type": "stream",
     "text": [
      "(12983,)\n",
      "(5662,)\n"
     ]
    }
   ],
   "source": [
    "for i in range(1,12):\n",
    "    exec(f'y_{i}=np.full(d_{i}.shape[0],i)');\n",
    "    exec(f'yt_{i}=np.full(dt_{i}.shape[0],i)')\n",
    "y_dir=[y_1,y_2,y_3,y_4,y_5,y_6,y_7,y_8,y_9,y_10,y_11]\n",
    "yt_dir=[yt_1,yt_2,yt_3,yt_4,yt_5,yt_6,yt_7,yt_8,yt_9,yt_10,yt_11]\n",
    "y=np.concatenate((y_dir),axis=0)\n",
    "yt=np.concatenate((yt_dir),axis=0)\n",
    "print(y.shape)\n",
    "print(yt.shape)"
   ]
  },
  {
   "cell_type": "code",
   "execution_count": 22,
   "id": "46d59e23-939e-48ed-8335-952da73cd3d5",
   "metadata": {
    "tags": []
   },
   "outputs": [
    {
     "data": {
      "text/plain": [
       "Counter({1: 3099,\n",
       "         2: 710,\n",
       "         3: 600,\n",
       "         5: 561,\n",
       "         4: 454,\n",
       "         10: 454,\n",
       "         7: 360,\n",
       "         6: 251,\n",
       "         9: 153,\n",
       "         8: 88,\n",
       "         11: 73})"
      ]
     },
     "execution_count": 22,
     "metadata": {},
     "output_type": "execute_result"
    }
   ],
   "source": [
    "def ratio_multiplier(y):\n",
    "    from collections import Counter\n",
    "\n",
    "    multiplier = {1: 0.334}\n",
    "    target_stats = Counter(y)\n",
    "    for key, value in target_stats.items():\n",
    "        if key in multiplier:\n",
    "            target_stats[key] = int(value * multiplier[key])\n",
    "    return target_stats\n",
    "\n",
    "ratio_multiplier(y)"
   ]
  },
  {
   "cell_type": "code",
   "execution_count": 27,
   "id": "036f049b-41d5-4499-af6f-bd7a218e3053",
   "metadata": {
    "tags": []
   },
   "outputs": [
    {
     "name": "stdout",
     "output_type": "stream",
     "text": [
      "3099\n",
      "3099\n",
      "3099\n",
      "3099\n",
      "3099\n",
      "3099\n",
      "3099\n",
      "3099\n",
      "3099\n",
      "3099\n",
      "3099\n"
     ]
    }
   ],
   "source": [
    "under=RandomUnderSampler(sampling_strategy=ratio_multiplier,random_state=1)\n",
    "x_under_sampled,y_under_sampled=under.fit_resample(X_train,y)\n",
    "over=RandomOverSampler(random_state=1)\n",
    "x_resampled,y_resampled=over.fit_resample(x_under_sampled,y_under_sampled)\n",
    "for i in range(1,12):\n",
    "    print(sum(y_resampled==i))"
   ]
  },
  {
   "cell_type": "code",
   "execution_count": 28,
   "id": "4ba5f173-05b3-44de-9f9d-83e06c503f5b",
   "metadata": {
    "tags": []
   },
   "outputs": [],
   "source": [
    "X_train=x_resampled\n",
    "Y_train=np.zeros((y_resampled.shape[0],4))\n",
    "Y_test=np.zeros((yt.shape[0],4))\n",
    "for i in range(y_resampled.shape[0]):\n",
    "    if y_resampled[i]==1:\n",
    "        Y_train[i]=np.array([1,0,0,0])#a\n",
    "    elif y_resampled[i]==2:\n",
    "        Y_train[i]=np.array([0,1,0,0])#c\n",
    "    elif y_resampled[i]==3:\n",
    "        Y_train[i]=np.array([0,0,1,0])#m\n",
    "    elif y_resampled[i]==4:\n",
    "        Y_train[i]=np.array([0,0,0,1])#s\n",
    "    elif y_resampled[i]==5:\n",
    "        Y_train[i]=np.array([1,1,0,0])#ac\n",
    "    elif y_resampled[i]==6:\n",
    "        Y_train[i]=np.array([1,0,1,0])#am\n",
    "    elif y_resampled[i]==7:\n",
    "        Y_train[i]=np.array([1,0,0,1])#as\n",
    "    elif y_resampled[i]==8:\n",
    "        Y_train[i]=np.array([0,1,1,0])#cm\n",
    "    elif y_resampled[i]==9:\n",
    "        Y_train[i]=np.array([1,1,1,0])#acm\n",
    "    elif y_resampled[i]==10:\n",
    "        Y_train[i]=np.array([1,1,0,1])#acs\n",
    "    elif y_resampled[i]==11:\n",
    "        Y_train[i]=np.array([1,1,1,1])#acms\n",
    "\n",
    "for i in range(yt.shape[0]):\n",
    "    if yt[i]==1:\n",
    "        Y_test[i]=np.array([1,0,0,0])#a\n",
    "    elif yt[i]==2:\n",
    "        Y_test[i]=np.array([0,1,0,0])#c\n",
    "    elif yt[i]==3:\n",
    "        Y_test[i]=np.array([0,0,1,0])#m\n",
    "    elif yt[i]==4:\n",
    "        Y_test[i]=np.array([0,0,0,1])#s\n",
    "    elif yt[i]==5:\n",
    "        Y_test[i]=np.array([1,1,0,0])#ac\n",
    "    elif yt[i]==6:\n",
    "        Y_test[i]=np.array([1,0,1,0])#am\n",
    "    elif yt[i]==7:\n",
    "        Y_test[i]=np.array([1,0,0,1])#as\n",
    "    elif yt[i]==8:\n",
    "        Y_test[i]=np.array([0,1,1,0])#cm\n",
    "    elif yt[i]==9:\n",
    "        Y_test[i]=np.array([1,1,1,0])#acm\n",
    "    elif yt[i]==10:\n",
    "        Y_test[i]=np.array([1,1,0,1])#acs\n",
    "    elif yt[i]==11:\n",
    "        Y_test[i]=np.array([1,1,1,1])#acms"
   ]
  },
  {
   "cell_type": "code",
   "execution_count": 37,
   "id": "3a704301-49ee-493c-bd33-2c6fe99856aa",
   "metadata": {
    "tags": []
   },
   "outputs": [
    {
     "name": "stdout",
     "output_type": "stream",
     "text": [
      "X_train:34089\n",
      "Y_train:34089\n",
      "X_test:5662\n",
      "Y_test:5662\n"
     ]
    }
   ],
   "source": [
    "print(f\"X_train:{X_train.shape[0]}\")\n",
    "print(f\"Y_train:{Y_train.shape[0]}\")\n",
    "print(f\"X_test:{X_test.shape[0]}\")\n",
    "print(f\"Y_test:{Y_test.shape[0]}\")"
   ]
  },
  {
   "cell_type": "markdown",
   "id": "1bd94ed7-9167-402a-9c8a-eb6485a71e0d",
   "metadata": {
    "tags": []
   },
   "source": [
    "### 至此重采样完成，接下来开始进行分类模型构建"
   ]
  },
  {
   "cell_type": "code",
   "execution_count": 38,
   "id": "978c4de7-d28c-4a63-af03-4d01d49e78f9",
   "metadata": {
    "tags": []
   },
   "outputs": [],
   "source": [
    "def get_knn(x,X_train,k,sign):\n",
    "    diffMat=np.tile(x,(X_train.shape[0],1))-X_train\n",
    "    distance=((diffMat**2).sum(axis=1))**0.5\n",
    "    if sign==1:\n",
    "        ans=distance.argsort()[0:k]\n",
    "    else:\n",
    "        ans=distance.argsort()[1:k+1]\n",
    "    return ans"
   ]
  },
  {
   "cell_type": "code",
   "execution_count": 39,
   "id": "f512f830-7d9a-48d1-aedd-673dbb219cef",
   "metadata": {
    "tags": []
   },
   "outputs": [],
   "source": [
    "#mlknn\n",
    "def mlknn_train(X_train,Y_train,k):\n",
    "    s=1\n",
    "    #计算训练样本是第i类的概率\n",
    "    p_1=np.zeros(4)\n",
    "    p_0=np.zeros(4)\n",
    "    for i in range(0,4):\n",
    "        p_1[i]=(s+sum(Y_train[:,i]==1))/(s*2+Y_train.shape[0])\n",
    "        p_0[i]=1-p_1[i]\n",
    "    print(f\"p_1:{p_1}\")\n",
    "    #计算某样本是第i类的条件下，它的K近邻中有几个是第i类的条件概率\n",
    "    #c_1记录每个样本的K近邻中有count个属于这一类的情况下该样本也属于这一类的个数\n",
    "    c_1=np.zeros((4,k+1))\n",
    "    c_0=np.zeros((4,k+1))\n",
    "    #p_1_n记录样本属于第i类的情况下，其K近邻中有几个是第i类的条件概率\n",
    "    p_1_n=np.zeros((4,k+1))\n",
    "    p_0_n=np.zeros((4,k+1))\n",
    "    N_x=np.zeros((X_train.shape[0],k,4))\n",
    "    for j in range(0,X_train.shape[0]):\n",
    "        N_x[j]=Y_train[get_knn(X_train[j],X_train,k,0)] #获得每个训练样本x的K近邻样本的标签\n",
    "    for i in range(0,4):\n",
    "        for j in range(0,Y_train.shape[0]):\n",
    "            count=sum(N_x[j][:,i]==1)              #统计第j个训练样本的K近邻样本中属于第i类的数量\n",
    "            if(Y_train[j][i]==1):\n",
    "                c_1[i][count]+=1\n",
    "            else:\n",
    "                c_0[i][count]+=1\n",
    "        #求出样本是第i类的条件下，K近邻中有j个是第i类的条件概率\n",
    "        #求出样本不是第i类的条件下，K近邻中有j个是第i类的条件概率\n",
    "        for j in range(0,k+1):\n",
    "            p_1_n[i][j]=(s+c_1[i][j])/(s*(k+1)+sum(c_1[i]))\n",
    "            p_0_n[i][j]=(s+c_0[i][j])/(s*(k+1)+sum(c_0[i]))\n",
    "    return p_1,p_0,p_1_n,p_0_n"
   ]
  },
  {
   "cell_type": "code",
   "execution_count": 40,
   "id": "5a8980c0-8b8e-4aa0-a5ba-bba534172ff3",
   "metadata": {
    "tags": []
   },
   "outputs": [],
   "source": [
    "def mlknn_predecit(X_test,X_train,Y_train,k,p_1,p_0,p_1_n,p_0_n):\n",
    "    #获取待预测样本的K近邻样本的标签\n",
    "    N_x=np.zeros((X_test.shape[0],k,4))\n",
    "    Y_pre=np.zeros((X_test.shape[0],4))\n",
    "    for j in range(0,X_test.shape[0]):\n",
    "        N_x[j]=Y_train[get_knn(X_test[j],X_train,k,1)]\n",
    "    for i in range(0,4):\n",
    "        for j in range(0,X_test.shape[0]):\n",
    "            count=sum(N_x[j][:,i]==1)              #统计第j个训练样本的K近邻样本中属于第i类的数量\n",
    "            Y_pre[j][i]=(p_1[i]*p_1_n[i][count]>p_0[i]*p_0_n[i][count])\n",
    "    return Y_pre"
   ]
  },
  {
   "cell_type": "code",
   "execution_count": 41,
   "id": "0228cf79-b557-480f-99c7-529b7efeb453",
   "metadata": {
    "tags": []
   },
   "outputs": [],
   "source": [
    "#使用训练集进行K折交叉验证并返回相关评价指标\n",
    "def mlknn_KfoldCV(X,Y,k,kfold):\n",
    "    acc=0\n",
    "    kf=KFold(n_splits=kfold,shuffle=True)\n",
    "    for train_index,test_index in kf.split(X):\n",
    "        x_train,x_test=X[train_index],X[test_index]\n",
    "        y_train,y_test=Y[train_index],Y[test_index]\n",
    "        p_1,p_0,p_1_n,p_0_n=mlknn_train(x_train,y_train,k)\n",
    "        y_pre=mlknn_predecit(x_test,x_train,y_train,k,p_1,p_0,p_1_n,p_0_n)\n",
    "        acc_count=0\n",
    "        for i in range(0,y_pre.shape[0]):\n",
    "            if((y_pre[i]==y_test[i]).all()):\n",
    "                acc_count+=1\n",
    "        acc+=(acc_count/x_test.shape[0])\n",
    "        print(acc_count/x_test.shape[0])\n",
    "    acc/=kfold\n",
    "    return acc"
   ]
  },
  {
   "cell_type": "code",
   "execution_count": 42,
   "id": "0dda6acf-eb64-4ad0-9c1e-a289ebc9961b",
   "metadata": {
    "tags": []
   },
   "outputs": [],
   "source": [
    "#使用测试集进行测试并返回相关评价指标\n",
    "def mlknn_test(X_test,Y_test,X_train,Y_train,k):\n",
    "    p_1,p_0,p_1_n,p_0_n=mlknn_train(X_train,Y_train,k)\n",
    "    Y_pre=mlknn_predecit(X_test,X_train,Y_train,k,p_1,p_0,p_1_n,p_0_n)\n",
    "    print(\"finish training,start predict\")\n",
    "    acc_count=0\n",
    "    for i in range(0,Y_pre.shape[0]):\n",
    "            if((Y_pre[i]==Y_test[i]).all()):\n",
    "                acc_count+=1\n",
    "    acc=(acc_count/X_test.shape[0])\n",
    "    print(f\"acc_count={acc_count},total_count={X_test.shape[0]}\")\n",
    "    return acc"
   ]
  },
  {
   "cell_type": "code",
   "execution_count": null,
   "id": "bffa02c6-471b-4c0e-91cd-ca449d260c5f",
   "metadata": {
    "tags": []
   },
   "outputs": [
    {
     "name": "stdout",
     "output_type": "stream",
     "text": [
      "p_1:[0.63635564 0.54545188 0.45454812 0.36364436]\n",
      "finish training,start predict\n",
      "acc_count=544,total_count=5662\n",
      "Accuracy=0.0960791239844578\n"
     ]
    }
   ],
   "source": [
    "acc_test=mlknn_test(X_test,Y_test,X_train,Y_train,11)\n",
    "print(f\"Accuracy={acc_test}\")"
   ]
  },
  {
   "cell_type": "code",
   "execution_count": 32,
   "id": "c035d0f7-7b49-4bc0-ad48-2eefd0b52c54",
   "metadata": {
    "collapsed": true,
    "jupyter": {
     "outputs_hidden": true
    },
    "tags": []
   },
   "outputs": [
    {
     "name": "stdout",
     "output_type": "stream",
     "text": [
      "p_1:[0.86041586 0.15768194 0.09087409 0.10444744]\n",
      "start type 1\n",
      "finish type 1\n",
      "start type 2\n",
      "finish type 2\n",
      "start type 3\n",
      "finish type 3\n",
      "start type 4\n",
      "finish type 4\n",
      "0.7173661917597227\n",
      "p_1:[0.85666153 0.15777821 0.08788987 0.10348479]\n",
      "start type 1\n",
      "finish type 1\n",
      "start type 2\n",
      "finish type 2\n",
      "start type 3\n",
      "finish type 3\n",
      "start type 4\n",
      "finish type 4\n",
      "0.7115902964959568\n",
      "p_1:[0.85791298 0.15941471 0.08933385 0.103196  ]\n",
      "start type 1\n",
      "finish type 1\n",
      "start type 2\n",
      "finish type 2\n",
      "start type 3\n",
      "finish type 3\n",
      "start type 4\n",
      "finish type 4\n",
      "0.7165960723912206\n",
      "p_1:[0.85600154 0.15689672 0.09105785 0.10414862]\n",
      "start type 1\n",
      "finish type 1\n",
      "start type 2\n",
      "finish type 2\n",
      "start type 3\n",
      "finish type 3\n",
      "start type 4\n",
      "finish type 4\n",
      "0.7172573189522342\n",
      "p_1:[0.85542401 0.15381654 0.08990278 0.10154972]\n",
      "start type 1\n",
      "finish type 1\n",
      "start type 2\n",
      "finish type 2\n",
      "start type 3\n",
      "finish type 3\n",
      "start type 4\n",
      "finish type 4\n",
      "0.7091679506933745\n"
     ]
    }
   ],
   "source": [
    "acc=mlknn_KfoldCV(X_train,Y_train,5,5)"
   ]
  },
  {
   "cell_type": "code",
   "execution_count": 107,
   "id": "f95c98e8-aaa6-45f3-9285-9568c6a8ddb1",
   "metadata": {
    "tags": []
   },
   "outputs": [],
   "source": [
    "pre=mlknn_predecit(X_train,X_train,Y_train,5,p_1,p_0,p_1_n,p_0_n)"
   ]
  },
  {
   "cell_type": "code",
   "execution_count": 145,
   "id": "c9ee9a7c-bb63-4bf0-91c0-b654a18d8620",
   "metadata": {
    "tags": []
   },
   "outputs": [],
   "source": [
    "acc_c=0\n",
    "for i in range(0,pre.shape[0]):\n",
    "    if((pre[i]==Y_train[i]).all()):\n",
    "        acc_c+=1"
   ]
  },
  {
   "cell_type": "code",
   "execution_count": 146,
   "id": "6391fd62-652a-4586-9fa5-1e57cf96b662",
   "metadata": {
    "tags": []
   },
   "outputs": [
    {
     "data": {
      "text/plain": [
       "9279"
      ]
     },
     "execution_count": 146,
     "metadata": {},
     "output_type": "execute_result"
    }
   ],
   "source": [
    "acc_c"
   ]
  },
  {
   "cell_type": "code",
   "execution_count": 149,
   "id": "aa442c0d-8f5a-4c3e-b41e-0cbdf8ddd3f8",
   "metadata": {
    "tags": []
   },
   "outputs": [],
   "source": [
    "acc=acc_c/X_train.shape[0]"
   ]
  },
  {
   "cell_type": "code",
   "execution_count": 150,
   "id": "ec278d5b-4a90-4215-9223-c9d4d98e959a",
   "metadata": {
    "tags": []
   },
   "outputs": [
    {
     "data": {
      "text/plain": [
       "0.7147038434876377"
      ]
     },
     "execution_count": 150,
     "metadata": {},
     "output_type": "execute_result"
    }
   ],
   "source": [
    "acc"
   ]
  }
 ],
 "metadata": {
  "kernelspec": {
   "display_name": "d2l:Python",
   "language": "python",
   "name": "conda-env-d2l-py"
  },
  "language_info": {
   "codemirror_mode": {
    "name": "ipython",
    "version": 3
   },
   "file_extension": ".py",
   "mimetype": "text/x-python",
   "name": "python",
   "nbconvert_exporter": "python",
   "pygments_lexer": "ipython3",
   "version": "3.9.18"
  }
 },
 "nbformat": 4,
 "nbformat_minor": 5
}
